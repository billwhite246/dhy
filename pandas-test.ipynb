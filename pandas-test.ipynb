{
 "cells": [
  {
   "cell_type": "code",
   "execution_count": 5,
   "metadata": {},
   "outputs": [],
   "source": [
    "import pandas as pd\n",
    "import numpy as np"
   ]
  },
  {
   "cell_type": "code",
   "execution_count": 12,
   "metadata": {},
   "outputs": [
    {
     "ename": "SyntaxError",
     "evalue": "invalid syntax (<ipython-input-12-efb2986be5ea>, line 12)",
     "output_type": "error",
     "traceback": [
      "\u001b[1;36m  File \u001b[1;32m\"<ipython-input-12-efb2986be5ea>\"\u001b[1;36m, line \u001b[1;32m12\u001b[0m\n\u001b[1;33m    df1 = df1[~(df1[\"姓名\"].isin([\"王二\"])]\u001b[0m\n\u001b[1;37m                                      ^\u001b[0m\n\u001b[1;31mSyntaxError\u001b[0m\u001b[1;31m:\u001b[0m invalid syntax\n"
     ]
    }
   ],
   "source": [
    "data={\"姓名\":['王二','李四','张三','小刘','测试','我的'],\"班级\":['一班','一班','二班','三班','三班','一班'],\"成绩\":['99','98','80','82','93','92'],\"性别\":['男','男','女','女','女','女']}\n",
    "df1 = pd.DataFrame(data)\n",
    "print(df1)\n",
    "\n",
    "myindex = np.array([],dtype=np.str)\n",
    "for i in range(0, df1.shape[0]):\n",
    "    myindex = np.append(myindex, \"iris\" + str(i))\n",
    "df1.index = myindex\n",
    "\n",
    "df1.index = ['iris0','iris1','iris2','iris3','iris4','iris5']\n",
    "\n",
    "df1 = df1[~(df1[\"姓名\"].isin([\"王二\"])]\n",
    "\n",
    "df1\n"
   ]
  }
 ],
 "metadata": {
  "kernelspec": {
   "display_name": "Python 3",
   "language": "python",
   "name": "python3"
  },
  "language_info": {
   "codemirror_mode": {
    "name": "ipython",
    "version": 3
   },
   "file_extension": ".py",
   "mimetype": "text/x-python",
   "name": "python",
   "nbconvert_exporter": "python",
   "pygments_lexer": "ipython3",
   "version": "3.6.4"
  }
 },
 "nbformat": 4,
 "nbformat_minor": 2
}
