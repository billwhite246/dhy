{
 "cells": [
  {
   "cell_type": "code",
   "execution_count": 13,
   "metadata": {},
   "outputs": [
    {
     "name": "stdout",
     "output_type": "stream",
     "text": [
      "--------------------\n",
      "订单：￥ 6.34\n",
      "运费：￥ 5\n",
      "--------------------\n",
      "共计：￥ 11.34\n"
     ]
    }
   ],
   "source": [
    "XJ_PRICE  = 2.05 # 香蕉\n",
    "JD_PRICE  = 3.20 #  鸡蛋\n",
    "HLB_PRICE = 1.09 #  胡萝卜\n",
    "\n",
    "#  获取运费\n",
    "def getYunFei(weight):\n",
    "    if weight <= 5:\n",
    "        return 5\n",
    "    elif weight <= 20:\n",
    "        return 7\n",
    "    else:\n",
    "        return 7 + (weight - 20) * 0.5\n",
    "\n",
    "    \n",
    "#  获取折扣\n",
    "def getZheKou(order_price):\n",
    "    if order_price > 100:\n",
    "        return 0.05 * order_price\n",
    "    else:\n",
    "        return order_price\n",
    "\n",
    "#  模拟购物 各一斤\n",
    "XJ_weight  = 1\n",
    "JD_weight  = 1\n",
    "HLB_weight = 1\n",
    "\n",
    "order_price = getZheKou(XJ_weight * XJ_PRICE + JD_weight * JD_PRICE + HLB_weight * HLB_PRICE)\n",
    "yunfei      = getYunFei(XJ_weight + JD_weight + HLB_weight)\n",
    "total       = order_price + yunfei\n",
    "\n",
    "print(\"--------------------\")\n",
    "print(\"订单：￥\", order_price)\n",
    "print(\"运费：￥\", yunfei)\n",
    "print(\"--------------------\")\n",
    "print(\"共计：￥\", total)\n",
    "\n",
    "\n",
    "\n"
   ]
  },
  {
   "cell_type": "code",
   "execution_count": null,
   "metadata": {},
   "outputs": [],
   "source": []
  }
 ],
 "metadata": {
  "kernelspec": {
   "display_name": "Python 3",
   "language": "python",
   "name": "python3"
  },
  "language_info": {
   "codemirror_mode": {
    "name": "ipython",
    "version": 3
   },
   "file_extension": ".py",
   "mimetype": "text/x-python",
   "name": "python",
   "nbconvert_exporter": "python",
   "pygments_lexer": "ipython3",
   "version": "3.6.4"
  }
 },
 "nbformat": 4,
 "nbformat_minor": 2
}
